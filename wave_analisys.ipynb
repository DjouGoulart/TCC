{
 "cells": [
  {
   "cell_type": "code",
   "execution_count": 1,
   "metadata": {},
   "outputs": [],
   "source": [
    "import pandas as pd\n",
    "from itertools import chain\n",
    "import matplotlib.pyplot as plt\n",
    "import matplotlib.patches as mpatches\n",
    "\n",
    "from wave_analisys import *"
   ]
  },
  {
   "cell_type": "code",
   "execution_count": 7,
   "metadata": {},
   "outputs": [],
   "source": [
    "tests = pd.read_csv('data/Propagação de ondas/ultrasound_waves_data.csv')\n",
    "tests = tests.sort_values(by=['sample_id', 'test_condition', 'wave_type', 'test_id'])\n",
    "indexes = ['sample_id', 'test_condition', 'wave_type', 'test_id']\n",
    "tests.set_index(indexes, drop=True, inplace=True)\n",
    "\n",
    "to_array = lambda text: list(map(float, text.replace('[','').replace(']','').split(',')))\n",
    "tests['sampling'] = tests['sampling'].apply(to_array)\n",
    "\n",
    "# tests = filter_tests(tests, sample_id='MA01-02', test_condition='dry', wave_type='s')"
   ]
  },
  {
   "cell_type": "code",
   "execution_count": 8,
   "metadata": {},
   "outputs": [],
   "source": [
    "threshold_factor = 0.5\n",
    "times_to_pick= 5\n",
    "\n",
    "time_cols = []\n",
    "for t in range(times_to_pick):\n",
    "    time_cols.append('time_%s' % str(t + 1))\n",
    "    tests[time_cols[t]] = 0"
   ]
  },
  {
   "cell_type": "code",
   "execution_count": 9,
   "metadata": {},
   "outputs": [],
   "source": [
    "for test in tests.itertuples():\n",
    "    arrival_times = []\n",
    "    \n",
    "    threshold = max((map(abs, test.sampling))) * threshold_factor     \n",
    "    arrival_times = zero_crossing_threshold(test, threshold, times_to_pick)\n",
    "    \n",
    "    [arrival_times.append(0) for i in range(times_to_pick - len(arrival_times))]\n",
    "    \n",
    "    tests.at[test.Index, time_cols] = arrival_times"
   ]
  },
  {
   "cell_type": "code",
   "execution_count": 10,
   "metadata": {},
   "outputs": [],
   "source": [
    "std_factor = 1.5\n",
    "mean_times = tests[time_cols].groupby(indexes[0:3]).agg(lambda x: mean_without_outliers(x, std_factor))"
   ]
  },
  {
   "cell_type": "code",
   "execution_count": 12,
   "metadata": {},
   "outputs": [],
   "source": [
    "def ax_callback(test, cs, ax):\n",
    "\n",
    "    factor = threshold_factor\n",
    "    threshold = max((map(abs, test.sampling))) * factor\n",
    "    ax.axhline(y=threshold, c='red', ls='--', label='Limiar: $\\pm$%.2f' % threshold)\n",
    "    ax.axhline(y=-threshold, c='red', ls='--')\n",
    "        \n",
    "    for i, col in enumerate(time_cols):\n",
    "        time = getattr(test, col)\n",
    "        if (time > 0):\n",
    "            ax.plot(time, cs(time), 'o', c='red', ms=3, label='$t_%i$: %.2f$\\mu$s' % (i + 1, time), zorder=30)\n",
    "\n",
    "        mean_time = mean_times.loc[test.Index[0:3]][col]\n",
    "        if mean_time > 0:\n",
    "            ax.axvline(x=mean_time, c='green', label='Média %i: %.2f$\\mu$s' % (i + 1, mean_time), zorder=10)\n",
    "            \n",
    "        handles, labels = ax.get_legend_handles_labels()\n",
    "        labels.insert(1, '')\n",
    "        handles.insert(1, mpatches.Patch(color='white'))\n",
    "        \n",
    "        ax.legend(handles=handles, labels=labels, prop={'size': 12}, frameon=True, edgecolor='black', ncol=6, loc=4)\n",
    "        \n",
    "def save_fig(index, tests_by_sample):\n",
    "    plt.savefig('data/Propagação de ondas/Plots/%s_%s_%s.png' % index, bbox_inches='tight', dpi=300)\n",
    "\n",
    "waveform_plot(tests, ax_callback=ax_callback, plot_callback=save_fig)"
   ]
  },
  {
   "cell_type": "code",
   "execution_count": 1,
   "metadata": {},
   "outputs": [
    {
     "ename": "NameError",
     "evalue": "name 'filter_tests' is not defined",
     "output_type": "error",
     "traceback": [
      "\u001b[1;31m---------------------------------------------------------------------------\u001b[0m",
      "\u001b[1;31mNameError\u001b[0m                                 Traceback (most recent call last)",
      "\u001b[1;32m<ipython-input-1-8710252b2bd6>\u001b[0m in \u001b[0;36m<module>\u001b[1;34m\u001b[0m\n\u001b[0;32m      6\u001b[0m '''\n\u001b[0;32m      7\u001b[0m \u001b[1;33m\u001b[0m\u001b[0m\n\u001b[1;32m----> 8\u001b[1;33m \u001b[0ms_waves\u001b[0m \u001b[1;33m=\u001b[0m \u001b[0mfilter_tests\u001b[0m\u001b[1;33m(\u001b[0m\u001b[0mmean_times\u001b[0m\u001b[1;33m,\u001b[0m \u001b[0mwave_type\u001b[0m\u001b[1;33m=\u001b[0m\u001b[1;34m's'\u001b[0m\u001b[1;33m)\u001b[0m\u001b[1;33m.\u001b[0m\u001b[0mreset_index\u001b[0m\u001b[1;33m(\u001b[0m\u001b[1;33m)\u001b[0m\u001b[1;33m\u001b[0m\u001b[1;33m\u001b[0m\u001b[0m\n\u001b[0m\u001b[0;32m      9\u001b[0m \u001b[0ms_waves\u001b[0m \u001b[1;33m=\u001b[0m \u001b[0ms_waves\u001b[0m\u001b[1;33m.\u001b[0m\u001b[0mpivot\u001b[0m\u001b[1;33m(\u001b[0m\u001b[0mindex\u001b[0m\u001b[1;33m=\u001b[0m\u001b[1;34m'sample_id'\u001b[0m\u001b[1;33m,\u001b[0m \u001b[0mcolumns\u001b[0m\u001b[1;33m=\u001b[0m\u001b[1;34m'test_condition'\u001b[0m\u001b[1;33m,\u001b[0m \u001b[0mvalues\u001b[0m\u001b[1;33m=\u001b[0m\u001b[0mtime_cols\u001b[0m\u001b[1;33m)\u001b[0m\u001b[1;33m\u001b[0m\u001b[1;33m\u001b[0m\u001b[0m\n\u001b[0;32m     10\u001b[0m \u001b[0ms_waves\u001b[0m\u001b[1;33m.\u001b[0m\u001b[0mcolumns\u001b[0m \u001b[1;33m=\u001b[0m \u001b[1;33m[\u001b[0m\u001b[1;34m'%s_s_%s'\u001b[0m \u001b[1;33m%\u001b[0m \u001b[0mcol_name\u001b[0m \u001b[1;32mfor\u001b[0m \u001b[0mcol_name\u001b[0m \u001b[1;32min\u001b[0m \u001b[0ms_waves\u001b[0m\u001b[1;33m.\u001b[0m\u001b[0mcolumns\u001b[0m\u001b[1;33m.\u001b[0m\u001b[0mto_list\u001b[0m\u001b[1;33m(\u001b[0m\u001b[1;33m)\u001b[0m\u001b[1;33m]\u001b[0m\u001b[1;33m\u001b[0m\u001b[1;33m\u001b[0m\u001b[0m\n",
      "\u001b[1;31mNameError\u001b[0m: name 'filter_tests' is not defined"
     ]
    }
   ],
   "source": [
    "'''\n",
    "p_waves = filter_tests(mean_times, wave_type='p').reset_index()\n",
    "p_waves = p_waves.pivot(index='sample_id', columns='test_condition', values='time_1')\n",
    "p_waves.columns = ['time_1_p_%s' % col_name for col_name in p_waves.columns.to_list()]\n",
    "\n",
    "'''\n",
    "\n",
    "s_waves = filter_tests(mean_times, wave_type='s').reset_index()\n",
    "s_waves = s_waves.pivot(index='sample_id', columns='test_condition', values=time_cols)\n",
    "s_waves.columns = ['%s_s_%s' % col_name for col_name in s_waves.columns.to_list()]\n",
    "\n",
    "# results = pd.concat([p_waves, s_waves], axis=1)\n",
    "results = s_waves\n",
    "results = results.reindex(sorted(results.columns), axis=1)\n",
    "display(results)\n",
    "\n",
    "results.to_csv('data/Propagação de ondas/waves_arrival_times_0_66.csv', float_format='%.2f')"
   ]
  },
  {
   "cell_type": "code",
   "execution_count": null,
   "metadata": {},
   "outputs": [],
   "source": []
  }
 ],
 "metadata": {
  "kernelspec": {
   "display_name": "Python [conda env:tcc]",
   "language": "python",
   "name": "conda-env-tcc-py"
  },
  "language_info": {
   "codemirror_mode": {
    "name": "ipython",
    "version": 3
   },
   "file_extension": ".py",
   "mimetype": "text/x-python",
   "name": "python",
   "nbconvert_exporter": "python",
   "pygments_lexer": "ipython3",
   "version": "3.7.4"
  }
 },
 "nbformat": 4,
 "nbformat_minor": 4
}
